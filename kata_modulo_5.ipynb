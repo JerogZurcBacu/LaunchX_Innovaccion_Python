{
 "cells": [
  {
   "cell_type": "markdown",
   "metadata": {},
   "source": [
    "## Ejercicio 1: Utilizar operadores aritméticos"
   ]
  },
  {
   "cell_type": "markdown",
   "metadata": {},
   "source": [
    "### Datos"
   ]
  },
  {
   "cell_type": "code",
   "execution_count": 1,
   "metadata": {},
   "outputs": [],
   "source": [
    "tierra = 149597870\n",
    "jupiter = 778547200"
   ]
  },
  {
   "cell_type": "markdown",
   "metadata": {},
   "source": [
    "### Cálculo de distancia en millas"
   ]
  },
  {
   "cell_type": "code",
   "execution_count": 5,
   "metadata": {},
   "outputs": [
    {
     "name": "stdout",
     "output_type": "stream",
     "text": [
      "628949330\n",
      "390577534\n"
     ]
    }
   ],
   "source": [
    "distancia = tierra - jupiter\n",
    "distanciaMillas = distancia * 0.621\n",
    "\n",
    "print(abs(distancia))\n",
    "print(abs(round(distanciaMillas)))"
   ]
  },
  {
   "cell_type": "markdown",
   "metadata": {},
   "source": [
    "## Ejercicio 2: Convertir cadenas en números y usar valores absolutos"
   ]
  },
  {
   "cell_type": "markdown",
   "metadata": {},
   "source": [
    "### Entrada de datos"
   ]
  },
  {
   "cell_type": "code",
   "execution_count": 8,
   "metadata": {},
   "outputs": [
    {
     "name": "stdout",
     "output_type": "stream",
     "text": [
      "123456789\n",
      "321654987\n"
     ]
    }
   ],
   "source": [
    "planeta1 = input(\"Ingresa la distancia del primer planeta\")\n",
    "planeta2 = input(\"Ingresa la distancia del segundo planeta\")\n",
    "\n",
    "print(planeta1)\n",
    "print(planeta2)"
   ]
  },
  {
   "cell_type": "markdown",
   "metadata": {},
   "source": [
    "### Convertir a número"
   ]
  },
  {
   "cell_type": "code",
   "execution_count": 9,
   "metadata": {},
   "outputs": [
    {
     "name": "stdout",
     "output_type": "stream",
     "text": [
      "123456789\n",
      "321654987\n"
     ]
    }
   ],
   "source": [
    "planeta1 = int(input(\"Ingresa la distancia del primer planeta\"))\n",
    "planeta2 = int(input(\"Ingresa la distancia del segundo planeta\"))\n",
    "\n",
    "print(planeta1)\n",
    "print(planeta2)"
   ]
  },
  {
   "cell_type": "markdown",
   "metadata": {},
   "source": [
    "### Realizar el cálculo y convertir a valor absoluto"
   ]
  },
  {
   "cell_type": "code",
   "execution_count": 12,
   "metadata": {},
   "outputs": [
    {
     "name": "stdout",
     "output_type": "stream",
     "text": [
      "198198198\n",
      "123081081\n"
     ]
    }
   ],
   "source": [
    "distancia = abs(planeta1 - planeta2)\n",
    "distanciaMillas = round(distancia * 0.621)\n",
    "\n",
    "print(distancia)\n",
    "print(distanciaMillas)\n"
   ]
  },
  {
   "cell_type": "markdown",
   "metadata": {},
   "source": [
    "### Probar aplicación"
   ]
  },
  {
   "cell_type": "code",
   "execution_count": 17,
   "metadata": {},
   "outputs": [
    {
     "name": "stdout",
     "output_type": "stream",
     "text": [
      "Mercurio\t: 57900000\n",
      "Venus: 108200000\n",
      "Distancia en Km: 50300000\n",
      "Distancia en Millas: 31236300\n"
     ]
    }
   ],
   "source": [
    "planetaName1 = input(\"Ingresa el nombre del primer planeta\")\n",
    "planetaDistance1 = int(input(\"Ingresa la distancia del primer planeta\"))\n",
    "planetaName2 = input(\"Ingresa el nombre del segundo planeta\")\n",
    "planetaDistance2 = int(input(\"Ingresa la distancia del segundo planeta\"))\n",
    "dato1 = planetaName1 + ': ' + str(planetaDistance1)\n",
    "dato2 = planetaName2 + ': ' + str(planetaDistance2)\n",
    "\n",
    "print(dato1)\n",
    "print(dato2)\n",
    "\n",
    "distanciaKm = abs(planetaDistance1 - planetaDistance2)\n",
    "distanciaMillas = round(distanciaKm * 0.621)\n",
    "\n",
    "print(\"Distancia en Km: \" + str(distanciaKm))\n",
    "print(\"Distancia en Millas: \" + str(distanciaMillas))\n"
   ]
  },
  {
   "cell_type": "code",
   "execution_count": 18,
   "metadata": {},
   "outputs": [
    {
     "name": "stdout",
     "output_type": "stream",
     "text": [
      "Tierra: 149600000\n",
      "Marte: 227900000\n",
      "Distancia en Km: 78300000\n",
      "Distancia en Millas: 48624300\n"
     ]
    }
   ],
   "source": [
    "planetaName1 = input(\"Ingresa el nombre del primer planeta\")\n",
    "planetaDistance1 = int(input(\"Ingresa la distancia del primer planeta\"))\n",
    "planetaName2 = input(\"Ingresa el nombre del segundo planeta\")\n",
    "planetaDistance2 = int(input(\"Ingresa la distancia del segundo planeta\"))\n",
    "dato1 = planetaName1 + ': ' + str(planetaDistance1)\n",
    "dato2 = planetaName2 + ': ' + str(planetaDistance2)\n",
    "\n",
    "print(dato1)\n",
    "print(dato2)\n",
    "\n",
    "distanciaKm = abs(planetaDistance1 - planetaDistance2)\n",
    "distanciaMillas = round(distanciaKm * 0.621)\n",
    "\n",
    "print(\"Distancia en Km: \" + str(distanciaKm))\n",
    "print(\"Distancia en Millas: \" + str(distanciaMillas))"
   ]
  },
  {
   "cell_type": "code",
   "execution_count": 19,
   "metadata": {},
   "outputs": [
    {
     "name": "stdout",
     "output_type": "stream",
     "text": [
      "Júpiter: 778600000\n",
      "Saturno\t: 1433500000\n",
      "Distancia en Km: 654900000\n",
      "Distancia en Millas: 406692900\n"
     ]
    }
   ],
   "source": [
    "planetaName1 = input(\"Ingresa el nombre del primer planeta\")\n",
    "planetaDistance1 = int(input(\"Ingresa la distancia del primer planeta\"))\n",
    "planetaName2 = input(\"Ingresa el nombre del segundo planeta\")\n",
    "planetaDistance2 = int(input(\"Ingresa la distancia del segundo planeta\"))\n",
    "dato1 = planetaName1 + ': ' + str(planetaDistance1)\n",
    "dato2 = planetaName2 + ': ' + str(planetaDistance2)\n",
    "\n",
    "print(dato1)\n",
    "print(dato2)\n",
    "\n",
    "distanciaKm = abs(planetaDistance1 - planetaDistance2)\n",
    "distanciaMillas = round(distanciaKm * 0.621)\n",
    "\n",
    "print(\"Distancia en Km: \" + str(distanciaKm))\n",
    "print(\"Distancia en Millas: \" + str(distanciaMillas))"
   ]
  },
  {
   "cell_type": "code",
   "execution_count": 20,
   "metadata": {},
   "outputs": [
    {
     "name": "stdout",
     "output_type": "stream",
     "text": [
      "Urano: 2872500000\n",
      "Neptuno: 4495100000\n",
      "Distancia en Km: 1622600000\n",
      "Distancia en Millas: 1007634600\n"
     ]
    }
   ],
   "source": [
    "planetaName1 = input(\"Ingresa el nombre del primer planeta\")\n",
    "planetaDistance1 = int(input(\"Ingresa la distancia del primer planeta\"))\n",
    "planetaName2 = input(\"Ingresa el nombre del segundo planeta\")\n",
    "planetaDistance2 = int(input(\"Ingresa la distancia del segundo planeta\"))\n",
    "dato1 = planetaName1 + ': ' + str(planetaDistance1)\n",
    "dato2 = planetaName2 + ': ' + str(planetaDistance2)\n",
    "\n",
    "print(dato1)\n",
    "print(dato2)\n",
    "\n",
    "distanciaKm = abs(planetaDistance1 - planetaDistance2)\n",
    "distanciaMillas = round(distanciaKm * 0.621)\n",
    "\n",
    "print(\"Distancia en Km: \" + str(distanciaKm))\n",
    "print(\"Distancia en Millas: \" + str(distanciaMillas))"
   ]
  }
 ],
 "metadata": {
  "interpreter": {
   "hash": "7d1c677fc0175b3bb388a662d4183939a4d8bba46566dabd556a0fe55c3774f4"
  },
  "kernelspec": {
   "display_name": "Python 3.10.2 64-bit",
   "language": "python",
   "name": "python3"
  },
  "language_info": {
   "codemirror_mode": {
    "name": "ipython",
    "version": 3
   },
   "file_extension": ".py",
   "mimetype": "text/x-python",
   "name": "python",
   "nbconvert_exporter": "python",
   "pygments_lexer": "ipython3",
   "version": "3.10.2"
  },
  "orig_nbformat": 4
 },
 "nbformat": 4,
 "nbformat_minor": 2
}
