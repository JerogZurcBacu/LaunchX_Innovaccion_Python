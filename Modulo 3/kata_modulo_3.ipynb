{
 "cells": [
  {
   "cell_type": "markdown",
   "metadata": {},
   "source": [
    "## Ejercicio Asteroide Kata Modulo 3\n"
   ]
  },
  {
   "cell_type": "markdown",
   "metadata": {},
   "source": [
    "### Velocidad 49 Km/s"
   ]
  },
  {
   "cell_type": "code",
   "execution_count": 2,
   "metadata": {},
   "outputs": [
    {
     "name": "stdout",
     "output_type": "stream",
     "text": [
      "Advertencia, la velocidad del asteroide a superado los 25 km/h\n"
     ]
    }
   ],
   "source": [
    "velocidadAsteroide = 49\n",
    "if velocidadAsteroide > 25:\n",
    "    print(\"Advertencia, la velocidad del asteroide a superado los 25 km/s\")\n",
    "else:\n",
    "    print(\"La velocidad del asteroide es menor a 25km/s\")\n",
    "\n"
   ]
  },
  {
   "cell_type": "markdown",
   "metadata": {},
   "source": [
    "### Velocidad 19km/s\n"
   ]
  },
  {
   "cell_type": "code",
   "execution_count": 4,
   "metadata": {},
   "outputs": [
    {
     "name": "stdout",
     "output_type": "stream",
     "text": [
      "No existe reisgo ni posibilidad de observar un asteroide\n"
     ]
    }
   ],
   "source": [
    "velocidadAsteroide = 19\n",
    "if velocidadAsteroide >= 20:\n",
    "    print(\"Advertencia, un asteroide se acerca, pueden buscar un rayo de luz\")\n",
    "elif velocidadAsteroide > 25:\n",
    "    print(\"Advertencia, la velocidad del asteroide a superado los 25 km/s\")\n",
    "else:\n",
    "    print(\"No existe reisgo ni posibilidad de observar un asteroide\")"
   ]
  },
  {
   "cell_type": "markdown",
   "metadata": {},
   "source": [
    "### Velocidad y tamaño"
   ]
  },
  {
   "cell_type": "code",
   "execution_count": 9,
   "metadata": {},
   "outputs": [
    {
     "name": "stdout",
     "output_type": "stream",
     "text": [
      "Advertencia, asteroide de gran tamaño se acerca a una velocidad peligrosa a la tierra\n"
     ]
    }
   ],
   "source": [
    "velocidadAsteroide = 26\n",
    "tamañoAsteroide = 26\n",
    "\n",
    "\n",
    "if velocidadAsteroide > 25 and tamañoAsteroide > 25:\n",
    "    print(\"Advertencia, asteroide de gran tamaño se acerca a una velocidad peligrosa a la tierra\")\n",
    "elif velocidadAsteroide >= 20:\n",
    "    print(\"Un asteroide se acerca a una velocidad moderada, posiblemente se pueda observar un rayo de luz en el cielo\")\n",
    "elif tamañoAsteroide < 25:\n",
    "    print(\"Un asteroide de tamaño pequeño se acerca, no representa ningun riesgo\")\n",
    "else:\n",
    "    print(\"No existe riesgo ni probabilidad de observar un asteroide\")"
   ]
  }
 ],
 "metadata": {
  "interpreter": {
   "hash": "7d1c677fc0175b3bb388a662d4183939a4d8bba46566dabd556a0fe55c3774f4"
  },
  "kernelspec": {
   "display_name": "Python 3.10.2 64-bit",
   "language": "python",
   "name": "python3"
  },
  "language_info": {
   "codemirror_mode": {
    "name": "ipython",
    "version": 3
   },
   "file_extension": ".py",
   "mimetype": "text/x-python",
   "name": "python",
   "nbconvert_exporter": "python",
   "pygments_lexer": "ipython3",
   "version": "3.10.2"
  },
  "orig_nbformat": 4
 },
 "nbformat": 4,
 "nbformat_minor": 2
}
