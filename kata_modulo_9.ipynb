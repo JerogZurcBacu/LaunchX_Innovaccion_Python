{
 "cells": [
  {
   "cell_type": "markdown",
   "metadata": {},
   "source": [
    "## Ejercicio: Uso de funciones en Python"
   ]
  },
  {
   "cell_type": "markdown",
   "metadata": {},
   "source": [
    "### Ejercicio 1: Trabajar con argumentos en funciones"
   ]
  },
  {
   "cell_type": "code",
   "execution_count": 2,
   "metadata": {},
   "outputs": [
    {
     "name": "stdout",
     "output_type": "stream",
     "text": [
      "\n",
      "    Promedio: 57.666666666666664%\n",
      "        Tanque principal: 15%\n",
      "        Tanque reserva: 89%\n",
      "        Tanque adicional: 69%\n",
      "    \n"
     ]
    }
   ],
   "source": [
    "def informe(tanque1, tanque2, tanque3):\n",
    "    promedio = (tanque1 + tanque2 + tanque3) / 3\n",
    "    return f\"\"\"\n",
    "    Promedio: {promedio}%\n",
    "        Tanque principal: {tanque1}%\n",
    "        Tanque reserva: {tanque2}%\n",
    "        Tanque adicional: {tanque3}%\n",
    "    \"\"\"\n",
    "\n",
    "print(informe(15, 89, 69))"
   ]
  },
  {
   "cell_type": "code",
   "execution_count": 6,
   "metadata": {},
   "outputs": [
    {
     "ename": "TypeError",
     "evalue": "'float' object is not callable",
     "output_type": "error",
     "traceback": [
      "\u001b[1;31m---------------------------------------------------------------------------\u001b[0m",
      "\u001b[1;31mTypeError\u001b[0m                                 Traceback (most recent call last)",
      "\u001b[1;32mc:\\Users\\gamep\\Desktop\\Innovaccion_LaunchX\\LaunchX_Innovaccion_Python\\Katas_Realizadas\\kata_modulo_9.ipynb Cell 4'\u001b[0m in \u001b[0;36m<module>\u001b[1;34m\u001b[0m\n\u001b[0;32m      <a href='vscode-notebook-cell:/c%3A/Users/gamep/Desktop/Innovaccion_LaunchX/LaunchX_Innovaccion_Python/Katas_Realizadas/kata_modulo_9.ipynb#ch0000004?line=8'>9</a>\u001b[0m     promedio \u001b[39m=\u001b[39m (tanque1 \u001b[39m+\u001b[39m tanque2 \u001b[39m+\u001b[39m tanque3) \u001b[39m/\u001b[39m \u001b[39m3\u001b[39m\n\u001b[0;32m     <a href='vscode-notebook-cell:/c%3A/Users/gamep/Desktop/Innovaccion_LaunchX/LaunchX_Innovaccion_Python/Katas_Realizadas/kata_modulo_9.ipynb#ch0000004?line=9'>10</a>\u001b[0m     \u001b[39mreturn\u001b[39;00m \u001b[39mf\u001b[39m\u001b[39m\"\"\"\u001b[39m\n\u001b[0;32m     <a href='vscode-notebook-cell:/c%3A/Users/gamep/Desktop/Innovaccion_LaunchX/LaunchX_Innovaccion_Python/Katas_Realizadas/kata_modulo_9.ipynb#ch0000004?line=10'>11</a>\u001b[0m \u001b[39m    Promedio: \u001b[39m\u001b[39m{\u001b[39;00mpromedio([tanque1, tanque2, tanque3])\u001b[39m}\u001b[39;00m\u001b[39m%\u001b[39m\n\u001b[0;32m     <a href='vscode-notebook-cell:/c%3A/Users/gamep/Desktop/Innovaccion_LaunchX/LaunchX_Innovaccion_Python/Katas_Realizadas/kata_modulo_9.ipynb#ch0000004?line=11'>12</a>\u001b[0m \u001b[39m        Tanque principal: \u001b[39m\u001b[39m{\u001b[39;00mtanque1\u001b[39m}\u001b[39;00m\u001b[39m%\u001b[39m\n\u001b[0;32m     <a href='vscode-notebook-cell:/c%3A/Users/gamep/Desktop/Innovaccion_LaunchX/LaunchX_Innovaccion_Python/Katas_Realizadas/kata_modulo_9.ipynb#ch0000004?line=12'>13</a>\u001b[0m \u001b[39m        Tanque reserva: \u001b[39m\u001b[39m{\u001b[39;00mtanque2\u001b[39m}\u001b[39;00m\u001b[39m%\u001b[39m\n\u001b[0;32m     <a href='vscode-notebook-cell:/c%3A/Users/gamep/Desktop/Innovaccion_LaunchX/LaunchX_Innovaccion_Python/Katas_Realizadas/kata_modulo_9.ipynb#ch0000004?line=13'>14</a>\u001b[0m \u001b[39m        Tanque adicional: \u001b[39m\u001b[39m{\u001b[39;00mtanque3\u001b[39m}\u001b[39;00m\u001b[39m%\u001b[39m\n\u001b[0;32m     <a href='vscode-notebook-cell:/c%3A/Users/gamep/Desktop/Innovaccion_LaunchX/LaunchX_Innovaccion_Python/Katas_Realizadas/kata_modulo_9.ipynb#ch0000004?line=14'>15</a>\u001b[0m \u001b[39m    \u001b[39m\u001b[39m\"\"\"\u001b[39m\n\u001b[1;32m---> <a href='vscode-notebook-cell:/c%3A/Users/gamep/Desktop/Innovaccion_LaunchX/LaunchX_Innovaccion_Python/Katas_Realizadas/kata_modulo_9.ipynb#ch0000004?line=16'>17</a>\u001b[0m \u001b[39mprint\u001b[39m(informe(\u001b[39m15\u001b[39;49m, \u001b[39m89\u001b[39;49m, \u001b[39m69\u001b[39;49m))\n",
      "\u001b[1;32mc:\\Users\\gamep\\Desktop\\Innovaccion_LaunchX\\LaunchX_Innovaccion_Python\\Katas_Realizadas\\kata_modulo_9.ipynb Cell 4'\u001b[0m in \u001b[0;36minforme\u001b[1;34m(tanque1, tanque2, tanque3)\u001b[0m\n\u001b[0;32m      <a href='vscode-notebook-cell:/c%3A/Users/gamep/Desktop/Innovaccion_LaunchX/LaunchX_Innovaccion_Python/Katas_Realizadas/kata_modulo_9.ipynb#ch0000004?line=7'>8</a>\u001b[0m \u001b[39mdef\u001b[39;00m \u001b[39minforme\u001b[39m(tanque1, tanque2, tanque3):\n\u001b[0;32m      <a href='vscode-notebook-cell:/c%3A/Users/gamep/Desktop/Innovaccion_LaunchX/LaunchX_Innovaccion_Python/Katas_Realizadas/kata_modulo_9.ipynb#ch0000004?line=8'>9</a>\u001b[0m     promedio \u001b[39m=\u001b[39m (tanque1 \u001b[39m+\u001b[39m tanque2 \u001b[39m+\u001b[39m tanque3) \u001b[39m/\u001b[39m \u001b[39m3\u001b[39m\n\u001b[0;32m     <a href='vscode-notebook-cell:/c%3A/Users/gamep/Desktop/Innovaccion_LaunchX/LaunchX_Innovaccion_Python/Katas_Realizadas/kata_modulo_9.ipynb#ch0000004?line=9'>10</a>\u001b[0m     \u001b[39mreturn\u001b[39;00m \u001b[39mf\u001b[39m\u001b[39m\"\"\"\u001b[39m\n\u001b[1;32m---> <a href='vscode-notebook-cell:/c%3A/Users/gamep/Desktop/Innovaccion_LaunchX/LaunchX_Innovaccion_Python/Katas_Realizadas/kata_modulo_9.ipynb#ch0000004?line=10'>11</a>\u001b[0m \u001b[39m    Promedio: \u001b[39m\u001b[39m{\u001b[39;00mpromedio([tanque1, tanque2, tanque3])\u001b[39m}\u001b[39;00m\u001b[39m%\u001b[39m\n\u001b[0;32m     <a href='vscode-notebook-cell:/c%3A/Users/gamep/Desktop/Innovaccion_LaunchX/LaunchX_Innovaccion_Python/Katas_Realizadas/kata_modulo_9.ipynb#ch0000004?line=11'>12</a>\u001b[0m \u001b[39m        Tanque principal: \u001b[39m\u001b[39m{\u001b[39;00mtanque1\u001b[39m}\u001b[39;00m\u001b[39m%\u001b[39m\n\u001b[0;32m     <a href='vscode-notebook-cell:/c%3A/Users/gamep/Desktop/Innovaccion_LaunchX/LaunchX_Innovaccion_Python/Katas_Realizadas/kata_modulo_9.ipynb#ch0000004?line=12'>13</a>\u001b[0m \u001b[39m        Tanque reserva: \u001b[39m\u001b[39m{\u001b[39;00mtanque2\u001b[39m}\u001b[39;00m\u001b[39m%\u001b[39m\n\u001b[0;32m     <a href='vscode-notebook-cell:/c%3A/Users/gamep/Desktop/Innovaccion_LaunchX/LaunchX_Innovaccion_Python/Katas_Realizadas/kata_modulo_9.ipynb#ch0000004?line=13'>14</a>\u001b[0m \u001b[39m        Tanque adicional: \u001b[39m\u001b[39m{\u001b[39;00mtanque3\u001b[39m}\u001b[39;00m\u001b[39m%\u001b[39m\n\u001b[0;32m     <a href='vscode-notebook-cell:/c%3A/Users/gamep/Desktop/Innovaccion_LaunchX/LaunchX_Innovaccion_Python/Katas_Realizadas/kata_modulo_9.ipynb#ch0000004?line=14'>15</a>\u001b[0m \u001b[39m    \u001b[39m\u001b[39m\"\"\"\u001b[39m\n",
      "\u001b[1;31mTypeError\u001b[0m: 'float' object is not callable"
     ]
    }
   ],
   "source": [
    "def promedio(values):\n",
    "    total = sum(values)\n",
    "    numero = len(values)\n",
    "    return total / numero\n",
    "\n",
    "promedio([15, 89, 69])"
   ]
  },
  {
   "cell_type": "code",
   "execution_count": 7,
   "metadata": {},
   "outputs": [
    {
     "name": "stdout",
     "output_type": "stream",
     "text": [
      "\n",
      "    Promedio: 57.666666666666664%\n",
      "        Tanque principal: 15%\n",
      "        Tanque reserva: 89%\n",
      "        Tanque adicional: 69%\n",
      "    \n"
     ]
    }
   ],
   "source": [
    "def informe(tanque1, tanque2, tanque3):\n",
    "    return f\"\"\"\n",
    "    Promedio: {promedio([tanque1, tanque2, tanque3])}%\n",
    "        Tanque principal: {tanque1}%\n",
    "        Tanque reserva: {tanque2}%\n",
    "        Tanque adicional: {tanque3}%\n",
    "    \"\"\"\n",
    "\n",
    "print(informe(15, 89, 69))"
   ]
  },
  {
   "cell_type": "markdown",
   "metadata": {},
   "source": [
    "### Ejercicio 2: "
   ]
  },
  {
   "cell_type": "code",
   "execution_count": 10,
   "metadata": {},
   "outputs": [
    {
     "name": "stdout",
     "output_type": "stream",
     "text": [
      "\n",
      "    Destino: Marte\n",
      "        Hora lanzamiento: 15:00\n",
      "        Tiempo de vuelo: 89 minutos\n",
      "        Combustible: 1700 litros\n",
      "    \n"
     ]
    }
   ],
   "source": [
    "def informeCompleto(destino, hora_lanzamiento, tiempo_vuelo, tanque_principal, tanque_secundario):\n",
    "    return f\"\"\"\n",
    "    Destino: {destino}\n",
    "        Hora lanzamiento: {hora_lanzamiento}\n",
    "        Tiempo de vuelo: {tiempo_vuelo} minutos\n",
    "        Combustible: {tanque_principal + tanque_secundario} litros\n",
    "    \"\"\"\n",
    "\n",
    "print(informeCompleto('Marte', \"15:00\", 89, 1200, 500))"
   ]
  },
  {
   "cell_type": "code",
   "execution_count": 11,
   "metadata": {},
   "outputs": [
    {
     "name": "stdout",
     "output_type": "stream",
     "text": [
      "\n",
      "    Destino: Marte\n",
      "        Tiempo total: 76 minutos\n",
      "        Combustible: 2000 litros\n",
      "    \n"
     ]
    }
   ],
   "source": [
    "def informeCompleto(destino, *minutos, **combustible):\n",
    "    return f\"\"\"\n",
    "    Destino: {destino}\n",
    "        Tiempo total: {sum(minutos)} minutos\n",
    "        Combustible: {sum(combustible.values())} litros\n",
    "    \"\"\"\n",
    "\n",
    "print(informeCompleto('Marte', 10, 15, 51, main=1500, external=500))"
   ]
  },
  {
   "cell_type": "code",
   "execution_count": 12,
   "metadata": {},
   "outputs": [
    {
     "name": "stdout",
     "output_type": "stream",
     "text": [
      "\n",
      "    Mission to Moon\n",
      "    Total travel time: 74 minutes\n",
      "    Total fuel left: 500000\n",
      "    main tank --> 300000 gallons left\n",
      "external tank --> 200000 gallons left\n",
      "\n"
     ]
    }
   ],
   "source": [
    "def mission_report(destination, *minutes, **fuel_reservoirs):\n",
    "    main_report = f\"\"\"\n",
    "    Mission to {destination}\n",
    "    Total travel time: {sum(minutes)} minutes\n",
    "    Total fuel left: {sum(fuel_reservoirs.values())}\n",
    "    \"\"\"\n",
    "    for tank_name, gallons in fuel_reservoirs.items():\n",
    "        main_report += f\"{tank_name} tank --> {gallons} gallons left\\n\"\n",
    "    return main_report\n",
    "\n",
    "print(mission_report(\"Moon\", 8, 11, 55, main=300000, external=200000))"
   ]
  }
 ],
 "metadata": {
  "interpreter": {
   "hash": "7d1c677fc0175b3bb388a662d4183939a4d8bba46566dabd556a0fe55c3774f4"
  },
  "kernelspec": {
   "display_name": "Python 3.10.2 64-bit",
   "language": "python",
   "name": "python3"
  },
  "language_info": {
   "codemirror_mode": {
    "name": "ipython",
    "version": 3
   },
   "file_extension": ".py",
   "mimetype": "text/x-python",
   "name": "python",
   "nbconvert_exporter": "python",
   "pygments_lexer": "ipython3",
   "version": "3.10.2"
  },
  "orig_nbformat": 4
 },
 "nbformat": 4,
 "nbformat_minor": 2
}
